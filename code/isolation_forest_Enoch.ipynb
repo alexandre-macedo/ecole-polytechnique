{
 "cells": [
  {
   "cell_type": "markdown",
   "metadata": {},
   "source": [
    "## Novelty and Outlier Detection methods from scikit-learn"
   ]
  },
  {
   "cell_type": "code",
   "execution_count": 1,
   "metadata": {},
   "outputs": [],
   "source": [
    "import numpy as np\n",
    "import pandas as pd\n",
    "import matplotlib.pyplot as plt\n",
    "from matplotlib import style\n",
    "import seaborn as sns\n",
    "\n",
    "%matplotlib inline\n",
    "# %matplotlib notebook\n",
    "style.use('ggplot')"
   ]
  },
  {
   "cell_type": "code",
   "execution_count": 2,
   "metadata": {},
   "outputs": [],
   "source": [
    "data = pd.read_csv(\"../data/creditcard.csv\")\n",
    "data.drop(['Time'], axis=1, inplace=True)\n",
    "labels = data['Class']\n",
    "labels_svm = labels.copy()\n",
    "labels_svm[labels == 1] = -1\n",
    "labels_svm[labels == 0] = 1"
   ]
  },
  {
   "cell_type": "code",
   "execution_count": 3,
   "metadata": {},
   "outputs": [],
   "source": [
    "from sklearn.preprocessing import StandardScaler\n",
    "\n",
    "scaled_features = StandardScaler().fit_transform(data.values)\n",
    "scaled_data = pd.DataFrame(scaled_features,\n",
    "                        index=data.index,\n",
    "                        columns=data.columns)\n",
    "scaled_data.drop(['Class'], axis=1, inplace=True)"
   ]
  },
  {
   "cell_type": "code",
   "execution_count": 4,
   "metadata": {},
   "outputs": [],
   "source": [
    "from sklearn.model_selection import train_test_split\n",
    "\n",
    "test_size = 0.3\n",
    "X_train, X_test, y_train, y_test = train_test_split(scaled_data,\n",
    "                                                    labels_svm,\n",
    "                                                    test_size=test_size)"
   ]
  },
  {
   "cell_type": "code",
   "execution_count": 5,
   "metadata": {},
   "outputs": [],
   "source": [
    "non_fraud_X_train = X_train[y_train==1]\n",
    "non_fraud_y_train = y_train[y_train==1]"
   ]
  },
  {
   "cell_type": "markdown",
   "metadata": {},
   "source": [
    "## One-Class SVM"
   ]
  },
  {
   "cell_type": "code",
   "execution_count": 6,
   "metadata": {},
   "outputs": [],
   "source": [
    "from sklearn.ensemble import IsolationForest"
   ]
  },
  {
   "cell_type": "markdown",
   "metadata": {},
   "source": [
    "Parameters copied from scikit-learn example, need to be fine-tuned"
   ]
  },
  {
   "cell_type": "code",
   "execution_count": 17,
   "metadata": {},
   "outputs": [
    {
     "data": {
      "text/plain": [
       "IsolationForest(bootstrap=False, contamination=0.01, max_features=1.0,\n",
       "        max_samples=100, n_estimators=100, n_jobs=-1, random_state=None,\n",
       "        verbose=0)"
      ]
     },
     "execution_count": 17,
     "metadata": {},
     "output_type": "execute_result"
    }
   ],
   "source": [
    "clf = IsolationForest(max_samples=100, contamination=0.01, n_jobs=-1)\n",
    "clf.fit(X_train)"
   ]
  },
  {
   "cell_type": "code",
   "execution_count": 18,
   "metadata": {},
   "outputs": [],
   "source": [
    "y_pred_train = clf.predict(X_train)\n",
    "y_pred_test = clf.predict(X_test)"
   ]
  },
  {
   "cell_type": "code",
   "execution_count": 19,
   "metadata": {},
   "outputs": [],
   "source": [
    "y_score_train = clf.decision_function(X_train)\n",
    "y_score_test = clf.decision_function(X_test)"
   ]
  },
  {
   "cell_type": "code",
   "execution_count": 22,
   "metadata": {},
   "outputs": [
    {
     "name": "stdout",
     "output_type": "stream",
     "text": [
      "Average precision-recall score: 0.9999\n",
      "F1 score: 0.9947\n",
      "Accuracy score: 0.9894\n"
     ]
    }
   ],
   "source": [
    "from sklearn.metrics import (average_precision_score,\n",
    "                             accuracy_score,\n",
    "                             classification_report,\n",
    "                             f1_score)\n",
    "average_precision = average_precision_score(y_test, y_score_test)\n",
    "f1 = f1_score(y_test, y_pred_test)\n",
    "acc = accuracy_score(y_test, y_pred_test)\n",
    "\n",
    "\n",
    "print('Average precision-recall score: {0:0.4f}'.format(\n",
    "      average_precision))\n",
    "print('F1 score: {0:0.4f}'.format(f1))\n",
    "print('Accuracy score: {0:0.4f}'.format(acc))"
   ]
  },
  {
   "cell_type": "code",
   "execution_count": 21,
   "metadata": {},
   "outputs": [
    {
     "name": "stdout",
     "output_type": "stream",
     "text": [
      "             precision    recall  f1-score   support\n",
      "\n",
      "         -1       0.09      0.62      0.16       136\n",
      "          1       1.00      0.99      0.99     85307\n",
      "\n",
      "avg / total       1.00      0.99      0.99     85443\n",
      "\n"
     ]
    }
   ],
   "source": [
    "print(classification_report(y_test, y_pred_test))"
   ]
  },
  {
   "cell_type": "markdown",
   "metadata": {},
   "source": [
    "## Optimization"
   ]
  },
  {
   "cell_type": "code",
   "execution_count": 20,
   "metadata": {},
   "outputs": [],
   "source": [
    "class Objective_IF(object):\n",
    "    \"\"\"\n",
    "    A class to encapsulate the SVC model and our objective function (the error in this case, to minimize)\n",
    "    \"\"\"\n",
    "    \n",
    "    def __init__(self):\n",
    "        self.history_f = []\n",
    "        self.fbest = np.inf\n",
    "        self.history_f_best = []\n",
    "        \n",
    "    def encode(self, nu, gamma):\n",
    "        \"\"\"\n",
    "        Returns a dict with the square value of the arguments C and gamma.\n",
    "        \"\"\"\n",
    "        nu2 = nu ** 2\n",
    "        self.nu_max = nu2 if nu2 > self.nu_max else self.nu_max\n",
    "        return {'nu': nu2 / self.nu_max, 'gamma': gamma ** 2}\n",
    "    \n",
    "    def __call__(self, pair):\n",
    "        \n",
    "        \n",
    "        \n",
    "        params = self.encode(*pair)\n",
    "        nu_in = params['nu']\n",
    "        gamma_in = params['gamma']\n",
    "        \n",
    "        \n",
    "        clf = IsolationForest(max_samples=100, contamination=0.01, n_jobs=-1)\n",
    "        clf.fit(non_fraud_X_train)\n",
    "        \n",
    "        y_pred_train = clf.predict(X_train)\n",
    "        y_pred_test = clf.predict(X_test)\n",
    "        y_score_train = clf.decision_function(X_train)\n",
    "        y_score_test = clf.decision_function(X_test)\n",
    "        \n",
    "        average_precision = average_precision_score(y_test, y_score_test)\n",
    "        f1 = f1_score(y_test, y_pred_test)\n",
    "        acc = accuracy_score(y_test, y_pred_test)\n",
    "        \n",
    "        f = 1 - acc # error function\n",
    "        \n",
    "        self.history_f.append(f)\n",
    "        if f < self.fbest:\n",
    "            self.fbest = f\n",
    "        self.history_f_best.append(self.fbest)\n",
    "        return f"
   ]
  },
  {
   "cell_type": "code",
   "execution_count": 21,
   "metadata": {},
   "outputs": [],
   "source": [
    "import cma"
   ]
  },
  {
   "cell_type": "code",
   "execution_count": null,
   "metadata": {},
   "outputs": [
    {
     "name": "stdout",
     "output_type": "stream",
     "text": [
      "(3_w,6)-aCMA-ES (mu_w=2.0,w_1=63%) in dimension 2 (seed=473977, Tue Mar  6 12:21:24 2018)\n"
     ]
    }
   ],
   "source": [
    "fun_cma = Objective_SVM()\n",
    "res_cma = cma.fmin(fun_cma, np.array([0.5, 0.5]), 0.25)"
   ]
  },
  {
   "cell_type": "code",
   "execution_count": null,
   "metadata": {},
   "outputs": [],
   "source": [
    "cma.plot()"
   ]
  }
 ],
 "metadata": {
  "kernelspec": {
   "display_name": "Python [default]",
   "language": "python",
   "name": "python3"
  },
  "language_info": {
   "codemirror_mode": {
    "name": "ipython",
    "version": 3
   },
   "file_extension": ".py",
   "mimetype": "text/x-python",
   "name": "python",
   "nbconvert_exporter": "python",
   "pygments_lexer": "ipython3",
   "version": "3.6.4"
  }
 },
 "nbformat": 4,
 "nbformat_minor": 2
}
