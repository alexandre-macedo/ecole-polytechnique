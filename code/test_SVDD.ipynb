{
 "cells": [
  {
   "cell_type": "markdown",
   "metadata": {},
   "source": [
    "## Testing SVDD functions from LIBSVM"
   ]
  },
  {
   "cell_type": "code",
   "execution_count": 8,
   "metadata": {
    "collapsed": true
   },
   "outputs": [],
   "source": [
    "import numpy as np\n",
    "import pandas as pd\n",
    "import matplotlib.pyplot as plt\n",
    "from matplotlib import style\n",
    "import seaborn as sns\n",
    "\n",
    "\n",
    "%matplotlib inline\n",
    "# %matplotlib notebook\n",
    "style.use('ggplot')"
   ]
  },
  {
   "cell_type": "code",
   "execution_count": 9,
   "metadata": {
    "collapsed": true
   },
   "outputs": [],
   "source": [
    "def ponto_dentro(n, R = 1):\n",
    "    \"\"\"Gera n pontos dentro da esfera (3D) de raio R\n",
    "    \n",
    "    retorna lista de listas com os pontos\n",
    "    \"\"\"\n",
    "    x = np.random.uniform(low=-R, high=R, size=n)\n",
    "    ry = np.sqrt(R ** 2 - np.square(x))\n",
    "    y = np.array([np.random.uniform(low=-r, high=r) for r in ry]).reshape(n, )\n",
    "    rz = np.sqrt(R ** 2 - np.square(x) - np.square(y))\n",
    "    z = np.array([np.random.uniform(low=-r, high=r) for r in rz]).reshape(n, )\n",
    "    pts = [[x[i], y[i], z[i]] for i in range(n)]\n",
    "    return pts"
   ]
  },
  {
   "cell_type": "code",
   "execution_count": 21,
   "metadata": {
    "collapsed": true
   },
   "outputs": [],
   "source": [
    "def ponto_fora(n, R = 1):\n",
    "    \"\"\"Gera n pontos fora da esfera (3D) de raio R\n",
    "    soma-se 3*R na coordenada Z para tirar o ponto de dentro da esfera, pode ser melhorado\n",
    "    retorna lista de listas com os pontos\n",
    "    \"\"\"\n",
    "    x = np.random.uniform(low=-R, high=R, size=n)\n",
    "    y = np.random.uniform(low=-R, high=R, size=n)\n",
    "    rg = R ** 2 - x ** 2 - y ** 2\n",
    "    z = np.array([np.random.uniform(low=-r, high=r, size=1) for r in rg]).reshape(n, ) + 2 * R\n",
    "    pts = [[x[i], y[i], z[i]] for i in range(n)] \n",
    "    return pts"
   ]
  },
  {
   "cell_type": "code",
   "execution_count": 22,
   "metadata": {},
   "outputs": [],
   "source": [
    "from svm import *\n",
    "from svmutil import *\n",
    "\n",
    "# For learning            \n",
    "n_pontos = 20\n",
    "t_label = [1] * n_pontos  #+ [0] * 1\n",
    "t_data = ponto_dentro(n_pontos) #+ ponto_fora(1)\n",
    "\n",
    "problem = svm_problem(t_label, t_data)\n",
    "parameter = svm_parameter('-s 5 -t 0')\n",
    "t = svm_train(problem, parameter)"
   ]
  },
  {
   "cell_type": "code",
   "execution_count": 23,
   "metadata": {},
   "outputs": [],
   "source": [
    "# For predict              \n",
    "n_dentro = 5\n",
    "n_fora = 42\n",
    "p_label = [1] * n_dentro + [-1] * n_fora\n",
    "p_data = ponto_dentro(n_dentro) + ponto_fora(n_fora)"
   ]
  },
  {
   "cell_type": "code",
   "execution_count": 24,
   "metadata": {},
   "outputs": [
    {
     "name": "stdout",
     "output_type": "stream",
     "text": [
      "Accuracy = 97.8723% (46/47) (classification)\n",
      "[Result]\n",
      "[1.0, 1.0, -1.0, 1.0, 1.0, -1.0, -1.0, -1.0, -1.0, -1.0, -1.0, -1.0, -1.0, -1.0, -1.0, -1.0, -1.0, -1.0, -1.0, -1.0, -1.0, -1.0, -1.0, -1.0, -1.0, -1.0, -1.0, -1.0, -1.0, -1.0, -1.0, -1.0, -1.0, -1.0, -1.0, -1.0, -1.0, -1.0, -1.0, -1.0, -1.0, -1.0, -1.0, -1.0, -1.0, -1.0, -1.0]\n",
      "(97.87234042553192, 0.0851063829787234, 0.7813953488372093)\n",
      "[[-0.11728970665893812], [-0.5139554681070736], [0.010993254411245212], [-0.5637751654783598], [-0.23697652640731937], [4.732107971092987], [2.1871575066219147], [1.2385278554661214], [3.191143188309617], [3.377902618563912], [2.575551075194693], [3.8001450212110273], [3.8790104414663737], [3.4189718548234325], [3.119658966065625], [3.385383914156497], [6.128635900277735], [4.737750087792911], [3.059663218525854], [3.5806287151628577], [4.3963690445424355], [3.5126492860737724], [3.4490148141210666], [1.8695661120023592], [3.5823613743661413], [3.6407315329856713], [5.69921212273867], [3.59749511047767], [3.360810447537234], [5.470488573016925], [2.0211578757764697], [3.8679839834967504], [5.15367480348269], [5.4284616033549575], [3.5064272496976754], [1.7823647909462048], [4.011350856496434], [4.82983692710754], [4.318838458989508], [3.576054750791024], [5.997966022113614], [3.5896312452175323], [4.781297881264724], [2.6356252564100173], [4.979994853444594], [4.115588224691023], [2.454036569361079]]\n"
     ]
    }
   ],
   "source": [
    "result = svm_predict(p_label, p_data , t)\n",
    "\n",
    "print(\"[Result]\")\n",
    "for r in result:\n",
    "    print(r)"
   ]
  },
  {
   "cell_type": "markdown",
   "metadata": {},
   "source": [
    "## Docstring da função svm_predict\n",
    "### para ajudar a entender o output"
   ]
  },
  {
   "cell_type": "markdown",
   "metadata": {},
   "source": [
    "\"\"\"\n",
    "svm_predict(y, x, m [, options]) -> (p_labels, p_acc, p_vals)\n",
    "\n",
    "Predict data (y, x) with the SVM model m. \n",
    "options: \n",
    "    -b probability_estimates: whether to predict probability estimates, \n",
    "        0 or 1 (default 0); for one-class SVM only 0 is supported.\n",
    "    -q : quiet mode (no outputs).\n",
    "\n",
    "The return tuple contains\n",
    "\n",
    "p_labels: a list of predicted labels\n",
    "\n",
    "p_acc: a tuple including  accuracy (for classification), mean-squared error, and squared correlation coefficient (for regression).\n",
    "       \n",
    "p_vals: a list of decision values or probability estimates (if '-b 1' is specified). If k is the number of classes, for decision values, each element includes results of predicting k(k-1)/2 binary-class SVMs. For probabilities, each element contains k values indicating the probability that the testing instance is in each class. Note that the order of classes here is the same as 'model.label' field in the model structure.\n",
    "\"\"\""
   ]
  }
 ],
 "metadata": {
  "kernelspec": {
   "display_name": "Python [default]",
   "language": "python",
   "name": "python3"
  },
  "language_info": {
   "codemirror_mode": {
    "name": "ipython",
    "version": 3
   },
   "file_extension": ".py",
   "mimetype": "text/x-python",
   "name": "python",
   "nbconvert_exporter": "python",
   "pygments_lexer": "ipython3",
   "version": "3.6.2"
  }
 },
 "nbformat": 4,
 "nbformat_minor": 2
}
