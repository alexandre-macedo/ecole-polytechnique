{
 "cells": [
  {
   "cell_type": "markdown",
   "metadata": {},
   "source": [
    "## Testing SVDD functions from LIBSVM"
   ]
  },
  {
   "cell_type": "code",
   "execution_count": 1,
   "metadata": {
    "collapsed": true
   },
   "outputs": [],
   "source": [
    "import numpy as np\n",
    "import pandas as pd\n",
    "import matplotlib.pyplot as plt\n",
    "from matplotlib import style\n",
    "import seaborn as sns\n",
    "\n",
    "\n",
    "%matplotlib inline\n",
    "# %matplotlib notebook\n",
    "style.use('ggplot')"
   ]
  },
  {
   "cell_type": "code",
   "execution_count": 2,
   "metadata": {
    "collapsed": true
   },
   "outputs": [],
   "source": [
    "def ponto_dentro(n, R = 1):\n",
    "    \"\"\"Gera n pontos dentro da esfera (3D) de raio R\n",
    "    \n",
    "    retorna lista de listas com os pontos\n",
    "    \"\"\"\n",
    "    x = np.random.uniform(low=-R, high=R, size=n)\n",
    "    ry = np.sqrt(R ** 2 - np.square(x))\n",
    "    y = np.array([np.random.uniform(low=-r, high=r) for r in ry]).reshape(n, )\n",
    "    rz = np.sqrt(R ** 2 - np.square(x) - np.square(y))\n",
    "    z = np.array([np.random.uniform(low=-r, high=r) for r in rz]).reshape(n, )\n",
    "    pts = [[x[i], y[i], z[i]] for i in range(n)]\n",
    "    return pts"
   ]
  },
  {
   "cell_type": "code",
   "execution_count": 3,
   "metadata": {
    "collapsed": true
   },
   "outputs": [],
   "source": [
    "def ponto_fora(n, R = 1):\n",
    "    \"\"\"Gera n pontos fora da esfera (3D) de raio R\n",
    "    soma-se 3*R na coordenada Z para tirar o ponto de dentro da esfera, pode ser melhorado\n",
    "    retorna lista de listas com os pontos\n",
    "    \"\"\"\n",
    "    x = np.random.uniform(low=-R, high=R, size=n)\n",
    "    y = np.random.uniform(low=-R, high=R, size=n)\n",
    "    rg = R ** 2 - x ** 2 - y ** 2\n",
    "    z = np.array([np.random.uniform(low=-r, high=r, size=1) for r in rg]).reshape(n, ) + 2 * R\n",
    "    pts = [[x[i], y[i], z[i]] for i in range(n)] \n",
    "    return pts"
   ]
  },
  {
   "cell_type": "code",
   "execution_count": 4,
   "metadata": {},
   "outputs": [],
   "source": [
    "from svm import *\n",
    "from svmutil import *\n",
    "\n",
    "# For learning            \n",
    "n_pontos = 20\n",
    "t_label = [1] * n_pontos  #+ [0] * 1\n",
    "t_data = ponto_dentro(n_pontos) #+ ponto_fora(1)\n",
    "\n",
    "problem = svm_problem(t_label, t_data)\n",
    "parameter = svm_parameter('-s 5 -t 0')\n",
    "t = svm_train(problem, parameter)"
   ]
  },
  {
   "cell_type": "code",
   "execution_count": 7,
   "metadata": {},
   "outputs": [],
   "source": [
    "# For predict              \n",
    "n_dentro = 5\n",
    "n_fora = 42\n",
    "p_label = [1] * n_dentro + [-1] * n_fora\n",
    "p_data = ponto_dentro(n_dentro) + ponto_fora(n_fora)"
   ]
  },
  {
   "cell_type": "code",
   "execution_count": 8,
   "metadata": {},
   "outputs": [
    {
     "name": "stdout",
     "output_type": "stream",
     "text": [
      "Accuracy = 100% (47/47) (classification)\n",
      "[Result]\n",
      "[1.0, 1.0, 1.0, 1.0, 1.0, -1.0, -1.0, -1.0, -1.0, -1.0, -1.0, -1.0, -1.0, -1.0, -1.0, -1.0, -1.0, -1.0, -1.0, -1.0, -1.0, -1.0, -1.0, -1.0, -1.0, -1.0, -1.0, -1.0, -1.0, -1.0, -1.0, -1.0, -1.0, -1.0, -1.0, -1.0, -1.0, -1.0, -1.0, -1.0, -1.0, -1.0, -1.0, -1.0, -1.0, -1.0, -1.0]\n",
      "(100.0, 0.0, 1.0)\n",
      "[[-0.1237874432379078], [-0.3199229212233107], [-0.21103331563264516], [-0.36942897818766807], [-0.6563733256500236], [2.921397584637236], [2.687336935275307], [4.825537531749537], [3.9603809940723185], [2.2752402996857946], [3.10397893822567], [2.2663168301964802], [6.649588829017686], [6.105930168134461], [0.5575059664378497], [2.809038201339847], [3.119243667914871], [4.367338322535586], [1.6292546280637648], [3.1030718065284946], [3.4900037941033846], [4.4797544691386415], [3.4945307727969146], [7.044869223345763], [4.071444933636631], [4.548962499291363], [5.826522793647668], [2.757847690925833], [2.2891192226197052], [3.768424447961599], [4.947541026965353], [3.599312136012929], [4.983924378100926], [3.6264887144229006], [1.583783949838127], [2.6108988336245886], [2.6881358600786305], [6.890107113789032], [5.308929719824157], [3.1988662148436955], [4.664255022142683], [3.7753263398362407], [3.1434783709108807], [3.7098054668786267], [5.068460884790926], [2.956883726851955], [4.8405683341226435]]\n"
     ]
    }
   ],
   "source": [
    "result = svm_predict(p_label, p_data , t)\n",
    "\n",
    "print(\"[Result]\")\n",
    "for r in result:\n",
    "    print(r)"
   ]
  },
  {
   "cell_type": "markdown",
   "metadata": {},
   "source": [
    "## Docstring da função svm_predict\n",
    "### para ajudar a entender o output"
   ]
  },
  {
   "cell_type": "markdown",
   "metadata": {},
   "source": [
    "\"\"\"\n",
    "svm_predict(y, x, m [, options]) -> (p_labels, p_acc, p_vals)\n",
    "\n",
    "Predict data (y, x) with the SVM model m. \n",
    "options: \n",
    "    -b probability_estimates: whether to predict probability estimates, \n",
    "        0 or 1 (default 0); for one-class SVM only 0 is supported.\n",
    "    -q : quiet mode (no outputs).\n",
    "\n",
    "The return tuple contains\n",
    "\n",
    "p_labels: a list of predicted labels\n",
    "\n",
    "p_acc: a tuple including  accuracy (for classification), mean-squared error, and squared correlation coefficient (for regression).\n",
    "       \n",
    "p_vals: a list of decision values or probability estimates (if '-b 1' is specified). If k is the number of classes, for decision values, each element includes results of predicting k(k-1)/2 binary-class SVMs. For probabilities, each element contains k values indicating the probability that the testing instance is in each class. Note that the order of classes here is the same as 'model.label' field in the model structure.\n",
    "\"\"\""
   ]
  }
 ],
 "metadata": {
  "kernelspec": {
   "display_name": "Python [default]",
   "language": "python",
   "name": "python3"
  },
  "language_info": {
   "codemirror_mode": {
    "name": "ipython",
    "version": 3
   },
   "file_extension": ".py",
   "mimetype": "text/x-python",
   "name": "python",
   "nbconvert_exporter": "python",
   "pygments_lexer": "ipython3",
   "version": "3.6.2"
  }
 },
 "nbformat": 4,
 "nbformat_minor": 2
}
