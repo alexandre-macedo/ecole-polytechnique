{
 "cells": [
  {
   "cell_type": "markdown",
   "metadata": {},
   "source": [
    "# MAP583 - Data Camp\n",
    "# Course project\n",
    "# Credit Card Fraud Detection"
   ]
  },
  {
   "cell_type": "markdown",
   "metadata": {},
   "source": [
    "We have chosen this dataset from Kaggle (https://www.kaggle.com/mlg-ulb/creditcardfraud/data), containing credid card transactions data, and the objective is to predict the transactions which are frauds."
   ]
  },
  {
   "cell_type": "code",
   "execution_count": 1,
   "metadata": {
    "collapsed": true
   },
   "outputs": [],
   "source": [
    "import numpy as np\n",
    "import pandas as pd\n",
    "import matplotlib.pyplot as plt\n",
    "from matplotlib import style\n",
    "import seaborn as sns\n",
    "import time\n",
    "\n",
    "%matplotlib inline\n",
    "# %matplotlib notebook\n",
    "style.use('ggplot')"
   ]
  },
  {
   "cell_type": "markdown",
   "metadata": {},
   "source": [
    "## Loading dataset"
   ]
  },
  {
   "cell_type": "code",
   "execution_count": 2,
   "metadata": {},
   "outputs": [
    {
     "data": {
      "text/html": [
       "<div>\n",
       "<style>\n",
       "    .dataframe thead tr:only-child th {\n",
       "        text-align: right;\n",
       "    }\n",
       "\n",
       "    .dataframe thead th {\n",
       "        text-align: left;\n",
       "    }\n",
       "\n",
       "    .dataframe tbody tr th {\n",
       "        vertical-align: top;\n",
       "    }\n",
       "</style>\n",
       "<table border=\"1\" class=\"dataframe\">\n",
       "  <thead>\n",
       "    <tr style=\"text-align: right;\">\n",
       "      <th></th>\n",
       "      <th>Time</th>\n",
       "      <th>V1</th>\n",
       "      <th>V2</th>\n",
       "      <th>V3</th>\n",
       "      <th>V4</th>\n",
       "      <th>V5</th>\n",
       "      <th>V6</th>\n",
       "      <th>V7</th>\n",
       "      <th>V8</th>\n",
       "      <th>V9</th>\n",
       "      <th>...</th>\n",
       "      <th>V21</th>\n",
       "      <th>V22</th>\n",
       "      <th>V23</th>\n",
       "      <th>V24</th>\n",
       "      <th>V25</th>\n",
       "      <th>V26</th>\n",
       "      <th>V27</th>\n",
       "      <th>V28</th>\n",
       "      <th>Amount</th>\n",
       "      <th>Class</th>\n",
       "    </tr>\n",
       "  </thead>\n",
       "  <tbody>\n",
       "    <tr>\n",
       "      <th>0</th>\n",
       "      <td>0.0</td>\n",
       "      <td>-1.359807</td>\n",
       "      <td>-0.072781</td>\n",
       "      <td>2.536347</td>\n",
       "      <td>1.378155</td>\n",
       "      <td>-0.338321</td>\n",
       "      <td>0.462388</td>\n",
       "      <td>0.239599</td>\n",
       "      <td>0.098698</td>\n",
       "      <td>0.363787</td>\n",
       "      <td>...</td>\n",
       "      <td>-0.018307</td>\n",
       "      <td>0.277838</td>\n",
       "      <td>-0.110474</td>\n",
       "      <td>0.066928</td>\n",
       "      <td>0.128539</td>\n",
       "      <td>-0.189115</td>\n",
       "      <td>0.133558</td>\n",
       "      <td>-0.021053</td>\n",
       "      <td>149.62</td>\n",
       "      <td>0</td>\n",
       "    </tr>\n",
       "    <tr>\n",
       "      <th>1</th>\n",
       "      <td>0.0</td>\n",
       "      <td>1.191857</td>\n",
       "      <td>0.266151</td>\n",
       "      <td>0.166480</td>\n",
       "      <td>0.448154</td>\n",
       "      <td>0.060018</td>\n",
       "      <td>-0.082361</td>\n",
       "      <td>-0.078803</td>\n",
       "      <td>0.085102</td>\n",
       "      <td>-0.255425</td>\n",
       "      <td>...</td>\n",
       "      <td>-0.225775</td>\n",
       "      <td>-0.638672</td>\n",
       "      <td>0.101288</td>\n",
       "      <td>-0.339846</td>\n",
       "      <td>0.167170</td>\n",
       "      <td>0.125895</td>\n",
       "      <td>-0.008983</td>\n",
       "      <td>0.014724</td>\n",
       "      <td>2.69</td>\n",
       "      <td>0</td>\n",
       "    </tr>\n",
       "    <tr>\n",
       "      <th>2</th>\n",
       "      <td>1.0</td>\n",
       "      <td>-1.358354</td>\n",
       "      <td>-1.340163</td>\n",
       "      <td>1.773209</td>\n",
       "      <td>0.379780</td>\n",
       "      <td>-0.503198</td>\n",
       "      <td>1.800499</td>\n",
       "      <td>0.791461</td>\n",
       "      <td>0.247676</td>\n",
       "      <td>-1.514654</td>\n",
       "      <td>...</td>\n",
       "      <td>0.247998</td>\n",
       "      <td>0.771679</td>\n",
       "      <td>0.909412</td>\n",
       "      <td>-0.689281</td>\n",
       "      <td>-0.327642</td>\n",
       "      <td>-0.139097</td>\n",
       "      <td>-0.055353</td>\n",
       "      <td>-0.059752</td>\n",
       "      <td>378.66</td>\n",
       "      <td>0</td>\n",
       "    </tr>\n",
       "    <tr>\n",
       "      <th>3</th>\n",
       "      <td>1.0</td>\n",
       "      <td>-0.966272</td>\n",
       "      <td>-0.185226</td>\n",
       "      <td>1.792993</td>\n",
       "      <td>-0.863291</td>\n",
       "      <td>-0.010309</td>\n",
       "      <td>1.247203</td>\n",
       "      <td>0.237609</td>\n",
       "      <td>0.377436</td>\n",
       "      <td>-1.387024</td>\n",
       "      <td>...</td>\n",
       "      <td>-0.108300</td>\n",
       "      <td>0.005274</td>\n",
       "      <td>-0.190321</td>\n",
       "      <td>-1.175575</td>\n",
       "      <td>0.647376</td>\n",
       "      <td>-0.221929</td>\n",
       "      <td>0.062723</td>\n",
       "      <td>0.061458</td>\n",
       "      <td>123.50</td>\n",
       "      <td>0</td>\n",
       "    </tr>\n",
       "    <tr>\n",
       "      <th>4</th>\n",
       "      <td>2.0</td>\n",
       "      <td>-1.158233</td>\n",
       "      <td>0.877737</td>\n",
       "      <td>1.548718</td>\n",
       "      <td>0.403034</td>\n",
       "      <td>-0.407193</td>\n",
       "      <td>0.095921</td>\n",
       "      <td>0.592941</td>\n",
       "      <td>-0.270533</td>\n",
       "      <td>0.817739</td>\n",
       "      <td>...</td>\n",
       "      <td>-0.009431</td>\n",
       "      <td>0.798278</td>\n",
       "      <td>-0.137458</td>\n",
       "      <td>0.141267</td>\n",
       "      <td>-0.206010</td>\n",
       "      <td>0.502292</td>\n",
       "      <td>0.219422</td>\n",
       "      <td>0.215153</td>\n",
       "      <td>69.99</td>\n",
       "      <td>0</td>\n",
       "    </tr>\n",
       "  </tbody>\n",
       "</table>\n",
       "<p>5 rows × 31 columns</p>\n",
       "</div>"
      ],
      "text/plain": [
       "   Time        V1        V2        V3        V4        V5        V6        V7  \\\n",
       "0   0.0 -1.359807 -0.072781  2.536347  1.378155 -0.338321  0.462388  0.239599   \n",
       "1   0.0  1.191857  0.266151  0.166480  0.448154  0.060018 -0.082361 -0.078803   \n",
       "2   1.0 -1.358354 -1.340163  1.773209  0.379780 -0.503198  1.800499  0.791461   \n",
       "3   1.0 -0.966272 -0.185226  1.792993 -0.863291 -0.010309  1.247203  0.237609   \n",
       "4   2.0 -1.158233  0.877737  1.548718  0.403034 -0.407193  0.095921  0.592941   \n",
       "\n",
       "         V8        V9  ...         V21       V22       V23       V24  \\\n",
       "0  0.098698  0.363787  ...   -0.018307  0.277838 -0.110474  0.066928   \n",
       "1  0.085102 -0.255425  ...   -0.225775 -0.638672  0.101288 -0.339846   \n",
       "2  0.247676 -1.514654  ...    0.247998  0.771679  0.909412 -0.689281   \n",
       "3  0.377436 -1.387024  ...   -0.108300  0.005274 -0.190321 -1.175575   \n",
       "4 -0.270533  0.817739  ...   -0.009431  0.798278 -0.137458  0.141267   \n",
       "\n",
       "        V25       V26       V27       V28  Amount  Class  \n",
       "0  0.128539 -0.189115  0.133558 -0.021053  149.62      0  \n",
       "1  0.167170  0.125895 -0.008983  0.014724    2.69      0  \n",
       "2 -0.327642 -0.139097 -0.055353 -0.059752  378.66      0  \n",
       "3  0.647376 -0.221929  0.062723  0.061458  123.50      0  \n",
       "4 -0.206010  0.502292  0.219422  0.215153   69.99      0  \n",
       "\n",
       "[5 rows x 31 columns]"
      ]
     },
     "execution_count": 2,
     "metadata": {},
     "output_type": "execute_result"
    }
   ],
   "source": [
    "data = pd.read_csv(\"../data/creditcard.csv\")\n",
    "data.head()"
   ]
  },
  {
   "cell_type": "code",
   "execution_count": 3,
   "metadata": {
    "collapsed": true
   },
   "outputs": [],
   "source": [
    "# Check if there is null data\n",
    "# data.isnull().sum()"
   ]
  },
  {
   "cell_type": "code",
   "execution_count": 4,
   "metadata": {
    "collapsed": true
   },
   "outputs": [],
   "source": [
    "# data.describe()"
   ]
  },
  {
   "cell_type": "markdown",
   "metadata": {},
   "source": [
    "## Removing 'Time' column and normalizing (scaling) data"
   ]
  },
  {
   "cell_type": "code",
   "execution_count": 5,
   "metadata": {
    "collapsed": true
   },
   "outputs": [],
   "source": [
    "data.drop(['Time'], axis=1, inplace=True)"
   ]
  },
  {
   "cell_type": "code",
   "execution_count": 6,
   "metadata": {
    "collapsed": true
   },
   "outputs": [],
   "source": [
    "labels = data['Class']"
   ]
  },
  {
   "cell_type": "markdown",
   "metadata": {},
   "source": [
    "The following is necessary, because of the way the SVDD library is coded"
   ]
  },
  {
   "cell_type": "code",
   "execution_count": 7,
   "metadata": {
    "collapsed": true
   },
   "outputs": [],
   "source": [
    "labels_svm = labels.copy()\n",
    "labels_svm[labels == 1] = -1 # fraud\n",
    "labels_svm[labels == 0] = 1 # non-fraud"
   ]
  },
  {
   "cell_type": "code",
   "execution_count": 8,
   "metadata": {
    "collapsed": true
   },
   "outputs": [],
   "source": [
    "from sklearn.preprocessing import StandardScaler\n",
    "\n",
    "scaled_features = StandardScaler().fit_transform(data.values)\n",
    "scaled_data = pd.DataFrame(scaled_features,\n",
    "                           index=data.index,\n",
    "                           columns=data.columns)"
   ]
  },
  {
   "cell_type": "code",
   "execution_count": 9,
   "metadata": {},
   "outputs": [
    {
     "data": {
      "text/html": [
       "<div>\n",
       "<style>\n",
       "    .dataframe thead tr:only-child th {\n",
       "        text-align: right;\n",
       "    }\n",
       "\n",
       "    .dataframe thead th {\n",
       "        text-align: left;\n",
       "    }\n",
       "\n",
       "    .dataframe tbody tr th {\n",
       "        vertical-align: top;\n",
       "    }\n",
       "</style>\n",
       "<table border=\"1\" class=\"dataframe\">\n",
       "  <thead>\n",
       "    <tr style=\"text-align: right;\">\n",
       "      <th></th>\n",
       "      <th>V1</th>\n",
       "      <th>V2</th>\n",
       "      <th>V3</th>\n",
       "      <th>V4</th>\n",
       "      <th>V5</th>\n",
       "      <th>V6</th>\n",
       "      <th>V7</th>\n",
       "      <th>V8</th>\n",
       "      <th>V9</th>\n",
       "      <th>V10</th>\n",
       "      <th>...</th>\n",
       "      <th>V20</th>\n",
       "      <th>V21</th>\n",
       "      <th>V22</th>\n",
       "      <th>V23</th>\n",
       "      <th>V24</th>\n",
       "      <th>V25</th>\n",
       "      <th>V26</th>\n",
       "      <th>V27</th>\n",
       "      <th>V28</th>\n",
       "      <th>Amount</th>\n",
       "    </tr>\n",
       "  </thead>\n",
       "  <tbody>\n",
       "    <tr>\n",
       "      <th>count</th>\n",
       "      <td>2.848070e+05</td>\n",
       "      <td>2.848070e+05</td>\n",
       "      <td>2.848070e+05</td>\n",
       "      <td>2.848070e+05</td>\n",
       "      <td>2.848070e+05</td>\n",
       "      <td>2.848070e+05</td>\n",
       "      <td>2.848070e+05</td>\n",
       "      <td>2.848070e+05</td>\n",
       "      <td>2.848070e+05</td>\n",
       "      <td>2.848070e+05</td>\n",
       "      <td>...</td>\n",
       "      <td>2.848070e+05</td>\n",
       "      <td>2.848070e+05</td>\n",
       "      <td>2.848070e+05</td>\n",
       "      <td>2.848070e+05</td>\n",
       "      <td>2.848070e+05</td>\n",
       "      <td>2.848070e+05</td>\n",
       "      <td>2.848070e+05</td>\n",
       "      <td>2.848070e+05</td>\n",
       "      <td>2.848070e+05</td>\n",
       "      <td>2.848070e+05</td>\n",
       "    </tr>\n",
       "    <tr>\n",
       "      <th>mean</th>\n",
       "      <td>-8.157366e-16</td>\n",
       "      <td>3.154853e-17</td>\n",
       "      <td>-4.409878e-15</td>\n",
       "      <td>-6.734811e-16</td>\n",
       "      <td>-2.874435e-16</td>\n",
       "      <td>4.168992e-16</td>\n",
       "      <td>-8.767997e-16</td>\n",
       "      <td>-2.423604e-16</td>\n",
       "      <td>3.078727e-16</td>\n",
       "      <td>2.026926e-17</td>\n",
       "      <td>...</td>\n",
       "      <td>2.754870e-16</td>\n",
       "      <td>1.685077e-17</td>\n",
       "      <td>1.478472e-15</td>\n",
       "      <td>-6.797197e-16</td>\n",
       "      <td>1.234659e-16</td>\n",
       "      <td>-7.659279e-16</td>\n",
       "      <td>3.247603e-16</td>\n",
       "      <td>-2.953495e-18</td>\n",
       "      <td>5.401572e-17</td>\n",
       "      <td>3.202236e-16</td>\n",
       "    </tr>\n",
       "    <tr>\n",
       "      <th>std</th>\n",
       "      <td>1.000002e+00</td>\n",
       "      <td>1.000002e+00</td>\n",
       "      <td>1.000002e+00</td>\n",
       "      <td>1.000002e+00</td>\n",
       "      <td>1.000002e+00</td>\n",
       "      <td>1.000002e+00</td>\n",
       "      <td>1.000002e+00</td>\n",
       "      <td>1.000002e+00</td>\n",
       "      <td>1.000002e+00</td>\n",
       "      <td>1.000002e+00</td>\n",
       "      <td>...</td>\n",
       "      <td>1.000002e+00</td>\n",
       "      <td>1.000002e+00</td>\n",
       "      <td>1.000002e+00</td>\n",
       "      <td>1.000002e+00</td>\n",
       "      <td>1.000002e+00</td>\n",
       "      <td>1.000002e+00</td>\n",
       "      <td>1.000002e+00</td>\n",
       "      <td>1.000002e+00</td>\n",
       "      <td>1.000002e+00</td>\n",
       "      <td>1.000002e+00</td>\n",
       "    </tr>\n",
       "    <tr>\n",
       "      <th>min</th>\n",
       "      <td>-2.879855e+01</td>\n",
       "      <td>-4.403529e+01</td>\n",
       "      <td>-3.187173e+01</td>\n",
       "      <td>-4.013919e+00</td>\n",
       "      <td>-8.240810e+01</td>\n",
       "      <td>-1.963606e+01</td>\n",
       "      <td>-3.520940e+01</td>\n",
       "      <td>-6.130252e+01</td>\n",
       "      <td>-1.222802e+01</td>\n",
       "      <td>-2.258191e+01</td>\n",
       "      <td>...</td>\n",
       "      <td>-7.069146e+01</td>\n",
       "      <td>-4.741907e+01</td>\n",
       "      <td>-1.506565e+01</td>\n",
       "      <td>-7.175446e+01</td>\n",
       "      <td>-4.683638e+00</td>\n",
       "      <td>-1.975033e+01</td>\n",
       "      <td>-5.401098e+00</td>\n",
       "      <td>-5.590660e+01</td>\n",
       "      <td>-4.674612e+01</td>\n",
       "      <td>-3.532294e-01</td>\n",
       "    </tr>\n",
       "    <tr>\n",
       "      <th>25%</th>\n",
       "      <td>-4.698918e-01</td>\n",
       "      <td>-3.624707e-01</td>\n",
       "      <td>-5.872142e-01</td>\n",
       "      <td>-5.993788e-01</td>\n",
       "      <td>-5.010686e-01</td>\n",
       "      <td>-5.766822e-01</td>\n",
       "      <td>-4.478860e-01</td>\n",
       "      <td>-1.746805e-01</td>\n",
       "      <td>-5.853631e-01</td>\n",
       "      <td>-4.917360e-01</td>\n",
       "      <td>...</td>\n",
       "      <td>-2.746334e-01</td>\n",
       "      <td>-3.109433e-01</td>\n",
       "      <td>-7.473476e-01</td>\n",
       "      <td>-2.591784e-01</td>\n",
       "      <td>-5.854676e-01</td>\n",
       "      <td>-6.084001e-01</td>\n",
       "      <td>-6.780717e-01</td>\n",
       "      <td>-1.755053e-01</td>\n",
       "      <td>-1.604440e-01</td>\n",
       "      <td>-3.308401e-01</td>\n",
       "    </tr>\n",
       "    <tr>\n",
       "      <th>50%</th>\n",
       "      <td>9.245351e-03</td>\n",
       "      <td>3.965683e-02</td>\n",
       "      <td>1.186124e-01</td>\n",
       "      <td>-1.401724e-02</td>\n",
       "      <td>-3.936682e-02</td>\n",
       "      <td>-2.058046e-01</td>\n",
       "      <td>3.241723e-02</td>\n",
       "      <td>1.871982e-02</td>\n",
       "      <td>-4.681169e-02</td>\n",
       "      <td>-8.533551e-02</td>\n",
       "      <td>...</td>\n",
       "      <td>-8.104705e-02</td>\n",
       "      <td>-4.009429e-02</td>\n",
       "      <td>9.345377e-03</td>\n",
       "      <td>-1.792420e-02</td>\n",
       "      <td>6.765678e-02</td>\n",
       "      <td>3.183240e-02</td>\n",
       "      <td>-1.081217e-01</td>\n",
       "      <td>3.325174e-03</td>\n",
       "      <td>3.406368e-02</td>\n",
       "      <td>-2.652715e-01</td>\n",
       "    </tr>\n",
       "    <tr>\n",
       "      <th>75%</th>\n",
       "      <td>6.716939e-01</td>\n",
       "      <td>4.867202e-01</td>\n",
       "      <td>6.774569e-01</td>\n",
       "      <td>5.250082e-01</td>\n",
       "      <td>4.433465e-01</td>\n",
       "      <td>2.991625e-01</td>\n",
       "      <td>4.611107e-01</td>\n",
       "      <td>2.740785e-01</td>\n",
       "      <td>5.435305e-01</td>\n",
       "      <td>4.168842e-01</td>\n",
       "      <td>...</td>\n",
       "      <td>1.725733e-01</td>\n",
       "      <td>2.537392e-01</td>\n",
       "      <td>7.283360e-01</td>\n",
       "      <td>2.364319e-01</td>\n",
       "      <td>7.257153e-01</td>\n",
       "      <td>6.728006e-01</td>\n",
       "      <td>4.996663e-01</td>\n",
       "      <td>2.255648e-01</td>\n",
       "      <td>2.371526e-01</td>\n",
       "      <td>-4.471707e-02</td>\n",
       "    </tr>\n",
       "    <tr>\n",
       "      <th>max</th>\n",
       "      <td>1.253351e+00</td>\n",
       "      <td>1.335775e+01</td>\n",
       "      <td>6.187993e+00</td>\n",
       "      <td>1.191874e+01</td>\n",
       "      <td>2.521413e+01</td>\n",
       "      <td>5.502015e+01</td>\n",
       "      <td>9.747824e+01</td>\n",
       "      <td>1.675153e+01</td>\n",
       "      <td>1.419494e+01</td>\n",
       "      <td>2.180758e+01</td>\n",
       "      <td>...</td>\n",
       "      <td>5.113464e+01</td>\n",
       "      <td>3.703471e+01</td>\n",
       "      <td>1.447304e+01</td>\n",
       "      <td>3.607668e+01</td>\n",
       "      <td>7.569684e+00</td>\n",
       "      <td>1.442532e+01</td>\n",
       "      <td>7.293975e+00</td>\n",
       "      <td>7.831940e+01</td>\n",
       "      <td>1.025434e+02</td>\n",
       "      <td>1.023622e+02</td>\n",
       "    </tr>\n",
       "  </tbody>\n",
       "</table>\n",
       "<p>8 rows × 29 columns</p>\n",
       "</div>"
      ],
      "text/plain": [
       "                 V1            V2            V3            V4            V5  \\\n",
       "count  2.848070e+05  2.848070e+05  2.848070e+05  2.848070e+05  2.848070e+05   \n",
       "mean  -8.157366e-16  3.154853e-17 -4.409878e-15 -6.734811e-16 -2.874435e-16   \n",
       "std    1.000002e+00  1.000002e+00  1.000002e+00  1.000002e+00  1.000002e+00   \n",
       "min   -2.879855e+01 -4.403529e+01 -3.187173e+01 -4.013919e+00 -8.240810e+01   \n",
       "25%   -4.698918e-01 -3.624707e-01 -5.872142e-01 -5.993788e-01 -5.010686e-01   \n",
       "50%    9.245351e-03  3.965683e-02  1.186124e-01 -1.401724e-02 -3.936682e-02   \n",
       "75%    6.716939e-01  4.867202e-01  6.774569e-01  5.250082e-01  4.433465e-01   \n",
       "max    1.253351e+00  1.335775e+01  6.187993e+00  1.191874e+01  2.521413e+01   \n",
       "\n",
       "                 V6            V7            V8            V9           V10  \\\n",
       "count  2.848070e+05  2.848070e+05  2.848070e+05  2.848070e+05  2.848070e+05   \n",
       "mean   4.168992e-16 -8.767997e-16 -2.423604e-16  3.078727e-16  2.026926e-17   \n",
       "std    1.000002e+00  1.000002e+00  1.000002e+00  1.000002e+00  1.000002e+00   \n",
       "min   -1.963606e+01 -3.520940e+01 -6.130252e+01 -1.222802e+01 -2.258191e+01   \n",
       "25%   -5.766822e-01 -4.478860e-01 -1.746805e-01 -5.853631e-01 -4.917360e-01   \n",
       "50%   -2.058046e-01  3.241723e-02  1.871982e-02 -4.681169e-02 -8.533551e-02   \n",
       "75%    2.991625e-01  4.611107e-01  2.740785e-01  5.435305e-01  4.168842e-01   \n",
       "max    5.502015e+01  9.747824e+01  1.675153e+01  1.419494e+01  2.180758e+01   \n",
       "\n",
       "           ...                V20           V21           V22           V23  \\\n",
       "count      ...       2.848070e+05  2.848070e+05  2.848070e+05  2.848070e+05   \n",
       "mean       ...       2.754870e-16  1.685077e-17  1.478472e-15 -6.797197e-16   \n",
       "std        ...       1.000002e+00  1.000002e+00  1.000002e+00  1.000002e+00   \n",
       "min        ...      -7.069146e+01 -4.741907e+01 -1.506565e+01 -7.175446e+01   \n",
       "25%        ...      -2.746334e-01 -3.109433e-01 -7.473476e-01 -2.591784e-01   \n",
       "50%        ...      -8.104705e-02 -4.009429e-02  9.345377e-03 -1.792420e-02   \n",
       "75%        ...       1.725733e-01  2.537392e-01  7.283360e-01  2.364319e-01   \n",
       "max        ...       5.113464e+01  3.703471e+01  1.447304e+01  3.607668e+01   \n",
       "\n",
       "                V24           V25           V26           V27           V28  \\\n",
       "count  2.848070e+05  2.848070e+05  2.848070e+05  2.848070e+05  2.848070e+05   \n",
       "mean   1.234659e-16 -7.659279e-16  3.247603e-16 -2.953495e-18  5.401572e-17   \n",
       "std    1.000002e+00  1.000002e+00  1.000002e+00  1.000002e+00  1.000002e+00   \n",
       "min   -4.683638e+00 -1.975033e+01 -5.401098e+00 -5.590660e+01 -4.674612e+01   \n",
       "25%   -5.854676e-01 -6.084001e-01 -6.780717e-01 -1.755053e-01 -1.604440e-01   \n",
       "50%    6.765678e-02  3.183240e-02 -1.081217e-01  3.325174e-03  3.406368e-02   \n",
       "75%    7.257153e-01  6.728006e-01  4.996663e-01  2.255648e-01  2.371526e-01   \n",
       "max    7.569684e+00  1.442532e+01  7.293975e+00  7.831940e+01  1.025434e+02   \n",
       "\n",
       "             Amount  \n",
       "count  2.848070e+05  \n",
       "mean   3.202236e-16  \n",
       "std    1.000002e+00  \n",
       "min   -3.532294e-01  \n",
       "25%   -3.308401e-01  \n",
       "50%   -2.652715e-01  \n",
       "75%   -4.471707e-02  \n",
       "max    1.023622e+02  \n",
       "\n",
       "[8 rows x 29 columns]"
      ]
     },
     "execution_count": 9,
     "metadata": {},
     "output_type": "execute_result"
    }
   ],
   "source": [
    "scaled_data.drop(['Class'], axis=1, inplace=True)\n",
    "scaled_data.describe()"
   ]
  },
  {
   "cell_type": "markdown",
   "metadata": {},
   "source": [
    "## Check target class"
   ]
  },
  {
   "cell_type": "code",
   "execution_count": 10,
   "metadata": {},
   "outputs": [
    {
     "name": "stdout",
     "output_type": "stream",
     "text": [
      " 1    284315\n",
      "-1       492\n",
      "Name: Class, dtype: int64\n"
     ]
    },
    {
     "data": {
      "image/png": "[encoded data removed]",
      "text/plain": [
       "<matplotlib.figure.Figure at 0x1068f9ba8>"
      ]
     },
     "metadata": {},
     "output_type": "display_data"
    }
   ],
   "source": [
    "class_counts = labels_svm.value_counts()\n",
    "print(class_counts)\n",
    "\n",
    "# Plot a histogram\n",
    "class_counts.plot(kind='bar')\n",
    "plt.title(\"Fraud distribution\")\n",
    "plt.xlabel(\"Class\")\n",
    "plt.ylabel(\"Frequency (log)\")\n",
    "plt.yscale('log')"
   ]
  },
  {
   "cell_type": "code",
   "execution_count": 11,
   "metadata": {},
   "outputs": [
    {
     "name": "stdout",
     "output_type": "stream",
     "text": [
      "Baseline: 99.827%\n"
     ]
    }
   ],
   "source": [
    "print('Baseline: {:.3f}%'.format(len(labels_svm[labels_svm == 1]) / len(labels_svm) * 100))"
   ]
  },
  {
   "cell_type": "markdown",
   "metadata": {},
   "source": [
    "The baseline accuracy is therefore 99.827%, so any model which performs below this threshold isn't doing very well"
   ]
  },
  {
   "cell_type": "markdown",
   "metadata": {},
   "source": [
    "## Splitting data"
   ]
  },
  {
   "cell_type": "code",
   "execution_count": 12,
   "metadata": {
    "collapsed": true
   },
   "outputs": [],
   "source": [
    "from sklearn.model_selection import train_test_split\n",
    "\n",
    "test_size = 0.2  # \"Pareto rule\", 80/20\n",
    "X_train, X_test, y_train, y_test = train_test_split(scaled_data,\n",
    "                                                    labels_svm,\n",
    "                                                    test_size=test_size)"
   ]
  },
  {
   "cell_type": "markdown",
   "metadata": {},
   "source": [
    "## We will use only non-fraud points to train SVDD\n",
    "In the library we only have SVDD implemented. There is not an implementation of SVDD-neg (a version that incorporates negative examples also)."
   ]
  },
  {
   "cell_type": "markdown",
   "metadata": {},
   "source": [
    "LIBSVM:\n",
    "\n",
    "https://github.com/cjlin1/libsvm\n",
    "\n",
    "https://github.com/cjlin1/libsvm/tree/master/python # bindings em Python\n",
    "\n",
    "https://www.csie.ntu.edu.tw/~cjlin/libsvm/index.html\n",
    "\n",
    "https://www.csie.ntu.edu.tw/~cjlin/papers/libsvm.pdf # article\n",
    "\n",
    "https://www.csie.ntu.edu.tw/~cjlin/papers/guide/guide.pdf # guide\n",
    "\n",
    "SVDD:\n",
    "\n",
    "https://www.csie.ntu.edu.tw/~cjlin/libsvmtools/#libsvm_for_svdd_and_finding_the_smallest_sphere_containing_all_data\n",
    "\n",
    "One-class SVM:\n",
    "\n",
    "http://scikit-learn.org/stable/auto_examples/svm/plot_oneclass.html"
   ]
  },
  {
   "cell_type": "markdown",
   "metadata": {},
   "source": [
    "Outras pessoas tiveram a mesma pergunta, mas aparentemente ninguém tem o SVDD-neg implementado\n",
    "https://www.reddit.com/r/MachineLearning/comments/396o0n/experience_training_support_vector_data/"
   ]
  },
  {
   "cell_type": "markdown",
   "metadata": {},
   "source": [
    "Biblioteca em MATLAB (tem a ver com o criador de SVDD)\n",
    "\n",
    "https://www.tudelft.nl/ewi/over-de-faculteit/afdelingen/intelligent-systems/pattern-recognition-bioinformatics/pattern-recognition-laboratory/data-and-software/dd-tools/"
   ]
  },
  {
   "cell_type": "code",
   "execution_count": 13,
   "metadata": {
    "collapsed": true
   },
   "outputs": [],
   "source": [
    "non_fraud_X_train = X_train[y_train==1].values.tolist()\n",
    "non_fraud_y_train = y_train[y_train==1].values.tolist()"
   ]
  },
  {
   "cell_type": "code",
   "execution_count": 14,
   "metadata": {
    "collapsed": true
   },
   "outputs": [],
   "source": [
    "from svm import *\n",
    "from svmutil import *"
   ]
  },
  {
   "cell_type": "code",
   "execution_count": 15,
   "metadata": {
    "collapsed": true
   },
   "outputs": [],
   "source": [
    "problem = svm_problem(non_fraud_y_train,\n",
    "                      non_fraud_X_train,\n",
    "                      isKernel=False) # set to True if precomputed Kernel"
   ]
  },
  {
   "cell_type": "code",
   "execution_count": 16,
   "metadata": {
    "collapsed": true
   },
   "outputs": [],
   "source": [
    "param = svm_parameter()\n",
    "param.svm_type = 5\n",
    "param.kernel_type = 3\n",
    "param.degree = 2\n",
    "param.gamma = 0.1\n",
    "param.C = 1\n",
    "param.eps = 0.001\n",
    "param.cross_validation = False\n",
    "param.nr_fold = 0\n",
    "model = svm_train(problem, param)"
   ]
  },
  {
   "cell_type": "code",
   "execution_count": 17,
   "metadata": {
    "collapsed": true
   },
   "outputs": [],
   "source": [
    "y_test = y_test.values.tolist()\n",
    "X_test = X_test.values.tolist()"
   ]
  },
  {
   "cell_type": "markdown",
   "metadata": {},
   "source": [
    "As we don't use the negative labels in the training set, I am adding them to our test set (maybe this is wrong to do)"
   ]
  },
  {
   "cell_type": "code",
   "execution_count": 18,
   "metadata": {
    "collapsed": true
   },
   "outputs": [],
   "source": [
    "y_test.extend(y_train[y_train==-1].values.tolist())\n",
    "X_test.extend(X_train[y_train==-1].values.tolist())"
   ]
  },
  {
   "cell_type": "code",
   "execution_count": 19,
   "metadata": {},
   "outputs": [
    {
     "name": "stdout",
     "output_type": "stream",
     "text": [
      "Accuracy = 99.1962% (56892/57353) (classification)\n"
     ]
    }
   ],
   "source": [
    "p_label, p_acc, p_val = svm_predict(y_test, X_test, model)"
   ]
  },
  {
   "cell_type": "code",
   "execution_count": 20,
   "metadata": {},
   "outputs": [
    {
     "data": {
      "text/plain": [
       "(99.19620595260928, 0.03215176189562882, 0.0626704172326382)"
      ]
     },
     "execution_count": 20,
     "metadata": {},
     "output_type": "execute_result"
    }
   ],
   "source": [
    "p_acc"
   ]
  },
  {
   "cell_type": "code",
   "execution_count": 21,
   "metadata": {
    "collapsed": true
   },
   "outputs": [],
   "source": [
    "val = np.array(p_val)\n",
    "lab = np.array(p_label)"
   ]
  },
  {
   "cell_type": "code",
   "execution_count": 22,
   "metadata": {
    "collapsed": true
   },
   "outputs": [],
   "source": [
    "val = val.reshape(val.shape[0])\n",
    "lab = lab.reshape(lab.shape[0])"
   ]
  },
  {
   "cell_type": "code",
   "execution_count": 23,
   "metadata": {},
   "outputs": [
    {
     "data": {
      "text/plain": [
       "True"
      ]
     },
     "execution_count": 23,
     "metadata": {},
     "output_type": "execute_result"
    }
   ],
   "source": [
    "(np.array(np.where(lab<0)).flatten() == np.array(np.where(val>0)).flatten()).all()"
   ]
  },
  {
   "cell_type": "markdown",
   "metadata": {},
   "source": [
    "p_label : +1 para não fraude, -1 para fraude\n",
    "\n",
    "p_val : negativo para não fraude, positivo para fraude (não sei nada sobre a magnitude de p_val ainda, mas acredito que seja a distância até a decision boundary)"
   ]
  },
  {
   "cell_type": "markdown",
   "metadata": {},
   "source": [
    "## Area under the precision-recall curve"
   ]
  },
  {
   "cell_type": "markdown",
   "metadata": {},
   "source": [
    "The SVDD method doesn't predict probabilities, but the output p_val is the distance of each point to the decision boundary (negative for non-frauds and positive for frauds)"
   ]
  },
  {
   "cell_type": "code",
   "execution_count": 24,
   "metadata": {},
   "outputs": [
    {
     "data": {
      "text/plain": [
       "<matplotlib.text.Text at 0x204df666d8>"
      ]
     },
     "execution_count": 24,
     "metadata": {},
     "output_type": "execute_result"
    },
    {
     "data": {
      "image/png": "[encoded data removed]",
      "text/plain": [
       "<matplotlib.figure.Figure at 0x105e3c550>"
      ]
     },
     "metadata": {},
     "output_type": "display_data"
    }
   ],
   "source": [
    "from sklearn.metrics import precision_recall_curve, auc\n",
    "\n",
    "precision, recall, thresholds = precision_recall_curve(y_test, p_val, pos_label=-1)\n",
    "average_precision = -np.sum(np.diff(recall) * np.array(precision)[:-1])\n",
    "\n",
    "plt.step(recall, precision, color='b', alpha=0.2, where='post')\n",
    "plt.fill_between(recall, precision, step='post', alpha=0.2, color='b')\n",
    "\n",
    "plt.xlabel('Recall')\n",
    "plt.ylabel('Precision')\n",
    "plt.ylim([0.0, 1.05])\n",
    "plt.xlim([0.0, 1.0])\n",
    "plt.title('2-class Precision-Recall curve: AP={0:0.3f}'.format(average_precision))"
   ]
  },
  {
   "cell_type": "code",
   "execution_count": 25,
   "metadata": {},
   "outputs": [
    {
     "data": {
      "text/plain": [
       "0.15654949979088312"
      ]
     },
     "execution_count": 25,
     "metadata": {},
     "output_type": "execute_result"
    }
   ],
   "source": [
    "from sklearn.metrics import auc\n",
    "\n",
    "auc(recall, precision)"
   ]
  },
  {
   "cell_type": "markdown",
   "metadata": {},
   "source": [
    "## Optimization with hyperopt"
   ]
  },
  {
   "cell_type": "code",
   "execution_count": 26,
   "metadata": {
    "scrolled": true
   },
   "outputs": [],
   "source": [
    "from hyperopt import fmin, tpe, hp, Trials"
   ]
  },
  {
   "cell_type": "code",
   "execution_count": 27,
   "metadata": {
    "collapsed": true
   },
   "outputs": [],
   "source": [
    "space = {'kernel': hp.choice('kernel_type', [\n",
    "                                {'type': LINEAR,},\n",
    "                                {'type': POLY,\n",
    "                                 'gamma': hp.lognormal('linear_gamma', 0, 1),\n",
    "                                 'coef0': hp.normal('linear_coef0', 0, 2),\n",
    "                                 'degree': hp.choice('linear_deg', [2, 3, 4, 5, 6, 7, 8, 9, 10]),\n",
    "                                },\n",
    "                                {'type': RBF,\n",
    "                                 'gamma': hp.lognormal('rbf_gamma', 0, 1),\n",
    "                                },\n",
    "                                {'type': SIGMOID,\n",
    "                                 'gamma': hp.lognormal('sig_gamma', 0, 1),\n",
    "                                 'coef0': hp.normal('sig_coef0', 0, 2),\n",
    "                                }\n",
    "                                 ]),\n",
    "         'C': hp.loguniform('svdd_C', -13, 0),\n",
    "        }"
   ]
  },
  {
   "cell_type": "code",
   "execution_count": 28,
   "metadata": {
    "collapsed": true
   },
   "outputs": [],
   "source": [
    "class Objective_SVDD(object):\n",
    "    \"\"\"\n",
    "    A class to encapsulate the SVC model and our objective function (the error in this case, to minimize)\n",
    "    \"\"\"\n",
    "    \n",
    "    def __init__(self):\n",
    "        self.history_f = []\n",
    "        self.fbest = np.inf\n",
    "        self.history_f_best = []\n",
    "        self.problem = svm_problem(non_fraud_y_train,\n",
    "                                   non_fraud_X_train,\n",
    "                                   isKernel=False) # set to True if precomputed Kernel\n",
    "        self.start_time = time.time()\n",
    "        \n",
    "    def __call__(self, params):\n",
    "        print('New model with parameters: ')\n",
    "        print(params)\n",
    "        param = svm_parameter()\n",
    "        param.svm_type = 5\n",
    "        param.kernel_type = params['kernel']['type']\n",
    "        if params['kernel']['type'] != LINEAR:\n",
    "            \n",
    "            if params['kernel']['type'] == POLY:\n",
    "                param.degree = params['kernel']['degree']\n",
    "            \n",
    "            if params['kernel']['type'] != RBF:\n",
    "                param.coef0 = params['kernel']['coef0']\n",
    "            \n",
    "            param.gamma = params['kernel']['gamma']\n",
    "            \n",
    "        param.C = params['C']\n",
    "        param.eps = 0.001\n",
    "        param.cross_validation = False\n",
    "        param.nr_fold = 0\n",
    "        \n",
    "        print('Training model')\n",
    "        t = time.time()\n",
    "        model = svm_train(self.problem, param)\n",
    "        print('Model trained, train time: {}'.format(time.time() - t))\n",
    "        \n",
    "        print('Predicting using model')\n",
    "        t = time.time()\n",
    "        p_label, p_acc, p_val = svm_predict(y_test, X_test, model)\n",
    "        print('Done predicting, predict time: {}'.format(time.time() - t))\n",
    "        \n",
    "        precision, recall, thresholds = precision_recall_curve(y_test, p_val, pos_label=-1)\n",
    "        average_precision = -np.sum(np.diff(recall) * np.array(precision)[:-1])\n",
    "        print('AP: {}'.format(average_precision))\n",
    "        f = 1 - average_precision # error function\n",
    "        \n",
    "        self.history_f.append(f)\n",
    "        if f < self.fbest:\n",
    "            self.fbest = f\n",
    "        self.history_f_best.append(self.fbest)\n",
    "        print('Time elapsed since begginning: {}'.format(time.time() - self.start_time))\n",
    "        \n",
    "        return f"
   ]
  },
  {
   "cell_type": "code",
   "execution_count": null,
   "metadata": {
    "scrolled": true
   },
   "outputs": [
    {
     "name": "stdout",
     "output_type": "stream",
     "text": [
      "New model with parameters: \n",
      "{'C': 7.091464242110048e-05, 'kernel': {'gamma': 0.7675641658262338, 'type': 2}}\n",
      "Training model\n",
      "Model trained, train time: 446.9808990955353\n",
      "Accuracy = 51.2842% (29413/57353) (classification)\n",
      "AP: 0.34709645120174465\n",
      "Time elapsed since begginning: 565.9185779094696\n",
      "New model with parameters: \n",
      "{'C': 0.3334342862814778, 'kernel': {'coef0': 1.4369642049754712, 'gamma': 0.4438792751533149, 'type': 3}}\n",
      "Training model\n",
      "Model trained, train time: 0.7406961917877197\n",
      "Accuracy = 99.1404% (56860/57353) (classification)\n",
      "AP: 0.031121597509381024\n",
      "Time elapsed since begginning: 569.0358200073242\n",
      "New model with parameters: \n",
      "{'C': 0.0016435835823549495, 'kernel': {'type': 0}}\n",
      "Training model\n",
      "Model trained, train time: 44.63445997238159\n",
      "Accuracy = 99.2014% (56895/57353) (classification)\n",
      "AP: 0.4579040566579266\n",
      "Time elapsed since begginning: 620.2323226928711\n",
      "New model with parameters: \n",
      "{'C': 0.001961574116934112, 'kernel': {'coef0': -1.621489420845775, 'gamma': 2.67801322393465, 'type': 3}}\n",
      "Training model\n",
      "Model trained, train time: 69.05646896362305\n",
      "Accuracy = 98.9661% (56760/57353) (classification)\n",
      "AP: 0.012883535299835228\n",
      "Time elapsed since begginning: 696.3201558589935\n",
      "New model with parameters: \n",
      "{'C': 0.00018859640039924322, 'kernel': {'gamma': 0.38593575223087767, 'type': 2}}\n",
      "Training model\n",
      "Model trained, train time: 1101.614499092102\n",
      "Accuracy = 53.4009% (30627/57353) (classification)\n",
      "AP: 0.5168979993252728\n",
      "Time elapsed since begginning: 1863.8313715457916\n",
      "New model with parameters: \n",
      "{'C': 0.04416819888706847, 'kernel': {'type': 0}}\n",
      "Training model\n",
      "Model trained, train time: 1.3573009967803955\n",
      "Accuracy = 99.1613% (56872/57353) (classification)\n",
      "AP: 0.49299261800370353\n",
      "Time elapsed since begginning: 1867.626898765564\n",
      "New model with parameters: \n",
      "{'C': 3.3951398669513877e-06, 'kernel': {'coef0': -3.3491769589881852, 'degree': 7, 'gamma': 1.246113251900313, 'type': 1}}\n",
      "Training model\n",
      "Model trained, train time: 2405.20148563385\n",
      "Accuracy = 0.857845% (492/57353) (classification)\n",
      "AP: 0.4208610036761857\n",
      "Time elapsed since begginning: 5710.7948269844055\n",
      "New model with parameters: \n",
      "{'C': 6.325283529810813e-06, 'kernel': {'coef0': 1.9690049850021658, 'gamma': 0.9417836463715797, 'type': 3}}\n",
      "Training model\n",
      "Model trained, train time: 17147.18863582611\n",
      "Accuracy = 31.3358% (17972/57353) (classification)\n",
      "AP: 0.09747593363976309\n",
      "Time elapsed since begginning: 24590.288787841797\n",
      "New model with parameters: \n",
      "{'C': 5.3908104791540686e-05, 'kernel': {'type': 0}}\n",
      "Training model\n",
      "Model trained, train time: 3224.0989079475403\n",
      "Accuracy = 91.9499% (52736/57353) (classification)\n",
      "AP: 0.4279849198787188\n",
      "Time elapsed since begginning: 28320.921942710876\n",
      "New model with parameters: \n",
      "{'C': 0.645143579454145, 'kernel': {'coef0': 0.2405694019014378, 'degree': 4, 'gamma': 0.4531342452254681, 'type': 1}}\n",
      "Training model\n",
      "Model trained, train time: 7.328063011169434\n",
      "Accuracy = 99.1404% (56860/57353) (classification)\n",
      "AP: 0.5098226528685003\n",
      "Time elapsed since begginning: 28331.21138358116\n",
      "New model with parameters: \n",
      "{'C': 0.005858011804702442, 'kernel': {'coef0': -0.9764117804444707, 'degree': 2, 'gamma': 2.0301598403012835, 'type': 1}}\n",
      "Training model\n",
      "Model trained, train time: 23.17287588119507\n",
      "Accuracy = 99.2694% (56934/57353) (classification)\n",
      "AP: 0.35652874416061253\n",
      "Time elapsed since begginning: 28362.774171829224\n",
      "New model with parameters: \n",
      "{'C': 0.0007671518358913374, 'kernel': {'coef0': -0.5193832621146243, 'gamma': 3.7539816734132825, 'type': 3}}\n",
      "Training model\n",
      "Model trained, train time: 318.8019587993622\n",
      "Accuracy = 98.64% (56573/57353) (classification)\n",
      "AP: 0.010460517731065967\n",
      "Time elapsed since begginning: 28704.856076717377\n",
      "New model with parameters: \n",
      "{'C': 0.010466625447002829, 'kernel': {'coef0': 0.9244388946323212, 'degree': 6, 'gamma': 2.00653930310276, 'type': 1}}\n",
      "Training model\n",
      "Model trained, train time: 8.795208930969238\n",
      "Accuracy = 99.3043% (56954/57353) (classification)\n",
      "AP: 0.2040256674943424\n",
      "Time elapsed since begginning: 28717.13381576538\n",
      "New model with parameters: \n",
      "{'C': 0.0010345247514081004, 'kernel': {'coef0': -1.479507600441717, 'degree': 2, 'gamma': 1.2388297902674323, 'type': 1}}\n",
      "Training model\n",
      "Model trained, train time: 789.590393781662\n",
      "Accuracy = 99.0776% (56824/57353) (classification)\n",
      "AP: 0.45384133054642783\n",
      "Time elapsed since begginning: 29521.030188798904\n",
      "New model with parameters: \n",
      "{'C': 0.00028640685479982436, 'kernel': {'coef0': 2.0522610242141215, 'degree': 7, 'gamma': 0.32774504539099447, 'type': 1}}\n",
      "Training model\n",
      "Model trained, train time: 490.9255039691925\n",
      "Accuracy = 98.1291% (56280/57353) (classification)\n",
      "AP: 0.346736710198006\n",
      "Time elapsed since begginning: 30112.570118904114\n",
      "New model with parameters: \n",
      "{'C': 0.06299023330637346, 'kernel': {'coef0': 0.4870454764042913, 'gamma': 2.2008436739316855, 'type': 3}}\n",
      "Training model\n",
      "Model trained, train time: 2.644031047821045\n",
      "Accuracy = 99.1369% (56858/57353) (classification)\n",
      "AP: 0.014188517364107586\n",
      "Time elapsed since begginning: 30118.5399889946\n",
      "New model with parameters: \n",
      "{'C': 1.3160980564248206e-05, 'kernel': {'type': 0}}\n",
      "Training model\n",
      "Model trained, train time: 9913.160310983658\n",
      "Accuracy = 67.0532% (38457/57353) (classification)\n",
      "AP: 0.4152297374903907\n",
      "Time elapsed since begginning: 40976.448306798935\n",
      "New model with parameters: \n",
      "{'C': 0.0014913815748181735, 'kernel': {'gamma': 0.42105551049286966, 'type': 2}}\n",
      "Training model\n",
      "Model trained, train time: 82.19349575042725\n",
      "Accuracy = 1.70349% (977/57353) (classification)\n",
      "AP: 0.4612450461314475\n",
      "Time elapsed since begginning: 41072.32224082947\n",
      "New model with parameters: \n",
      "{'C': 0.03836755257559869, 'kernel': {'gamma': 1.7614349228245911, 'type': 2}}\n",
      "Training model\n",
      "Model trained, train time: 134.75661611557007\n",
      "Accuracy = 0.857845% (492/57353) (classification)\n",
      "AP: 0.0804794195898029\n",
      "Time elapsed since begginning: 41228.59602975845\n",
      "New model with parameters: \n",
      "{'C': 0.0003371225614360008, 'kernel': {'coef0': 0.321426648094381, 'degree': 10, 'gamma': 2.76572762513386, 'type': 1}}\n",
      "Training model\n",
      "Model trained, train time: 499.5563621520996\n",
      "Accuracy = 98.2128% (56328/57353) (classification)\n",
      "AP: 0.2772919447597489\n",
      "Time elapsed since begginning: 41778.647788763046\n",
      "New model with parameters: \n",
      "{'C': 0.6101821089417669, 'kernel': {'gamma': 0.2311751920537767, 'type': 2}}\n",
      "Training model\n",
      "Model trained, train time: 118.36565589904785\n",
      "Accuracy = 0.861332% (494/57353) (classification)\n",
      "AP: 0.46832821877628344\n",
      "Time elapsed since begginning: 41917.79147577286\n",
      "New model with parameters: \n",
      "{'C': 0.00011299055500831937, 'kernel': {'gamma': 0.3793995537888832, 'type': 2}}\n",
      "Training model\n",
      "Model trained, train time: 854.4116699695587\n",
      "Accuracy = 81.7534% (46888/57353) (classification)\n",
      "AP: 0.5329987024755315\n",
      "Time elapsed since begginning: 43060.21702671051\n",
      "New model with parameters: \n",
      "{'C': 4.5332053320054425e-05, 'kernel': {'gamma': 0.03832618946797955, 'type': 2}}\n",
      "Training model\n",
      "Model trained, train time: 11538.252737045288\n",
      "Accuracy = 90.4469% (51874/57353) (classification)\n",
      "AP: 0.55745619601212\n",
      "Time elapsed since begginning: 55020.950514793396\n",
      "New model with parameters: \n",
      "{'C': 2.8333489212566444e-05, 'kernel': {'gamma': 0.014553880873891313, 'type': 2}}\n",
      "Training model\n",
      "Model trained, train time: 4421.731295108795\n",
      "Accuracy = 84.7924% (48631/57353) (classification)\n",
      "AP: 0.4524756975110224\n",
      "Time elapsed since begginning: 59973.916388750076\n",
      "New model with parameters: \n",
      "{'C': 2.6139148908743155e-06, 'kernel': {'gamma': 0.04885924245460519, 'type': 2}}\n",
      "Training model\n",
      "Model trained, train time: 3017.234180212021\n",
      "Accuracy = 0.857845% (492/57353) (classification)\n",
      "AP: 0.5249147622340256\n",
      "Time elapsed since begginning: 64552.84478998184\n",
      "New model with parameters: \n",
      "{'C': 0.0001073463709671187, 'kernel': {'gamma': 0.0655684990525661, 'type': 2}}\n",
      "Training model\n",
      "Model trained, train time: 3109.5241100788116\n",
      "Accuracy = 96.2966% (55229/57353) (classification)\n",
      "AP: 0.608759177617815\n",
      "Time elapsed since begginning: 67876.60588955879\n",
      "New model with parameters: \n",
      "{'C': 1.749866915849529e-05, 'kernel': {'gamma': 0.039954062685039815, 'type': 2}}\n",
      "Training model\n",
      "Model trained, train time: 6882.215195894241\n",
      "Accuracy = 74.6413% (42809/57353) (classification)\n",
      "AP: 0.5313877889232462\n",
      "Time elapsed since begginning: 75499.92998576164\n",
      "New model with parameters: \n",
      "{'C': 6.637826829916156e-06, 'kernel': {'gamma': 0.04677253794487342, 'type': 2}}\n",
      "Training model\n"
     ]
    },
    {
     "name": "stdout",
     "output_type": "stream",
     "text": [
      "Model trained, train time: 12861.21344423294\n",
      "Accuracy = 34.2615% (19649/57353) (classification)\n",
      "AP: 0.5281802059925425\n",
      "Time elapsed since begginning: 89661.7672958374\n",
      "New model with parameters: \n",
      "{'C': 8.365258763523751e-05, 'kernel': {'gamma': 0.029652012975241584, 'type': 2}}\n",
      "Training model\n",
      "Model trained, train time: 4622.532025814056\n",
      "Accuracy = 94.8599% (54405/57353) (classification)\n",
      "AP: 0.55850931622426\n",
      "Time elapsed since begginning: 94553.33243489265\n",
      "New model with parameters: \n",
      "{'C': 9.913377041288044e-05, 'kernel': {'gamma': 0.02320022658195079, 'type': 2}}\n",
      "Training model\n",
      "Model trained, train time: 3130.4436779022217\n",
      "Accuracy = 95.4876% (54765/57353) (classification)\n",
      "AP: 0.54541674629573\n",
      "Time elapsed since begginning: 97917.58446884155\n",
      "New model with parameters: \n",
      "{'C': 0.00550709944166736, 'kernel': {'gamma': 0.08679151479230057, 'type': 2}}\n",
      "Training model\n",
      "Model trained, train time: 264.4364399909973\n",
      "Accuracy = 37.0059% (21224/57353) (classification)\n",
      "AP: 0.5492339260399066\n",
      "Time elapsed since begginning: 98197.90939688683\n",
      "New model with parameters: \n",
      "{'C': 0.0006064972233281289, 'kernel': {'gamma': 12.789862552118475, 'type': 2}}\n",
      "Training model\n",
      "Model trained, train time: 73.81564521789551\n",
      "Accuracy = 1.81856% (1043/57353) (classification)\n",
      "AP: 0.011530704195635247\n",
      "Time elapsed since begginning: 98285.79726481438\n",
      "New model with parameters: \n",
      "{'C': 0.00015395554783287355, 'kernel': {'type': 0}}\n",
      "Training model\n",
      "Model trained, train time: 2650.9834699630737\n",
      "Accuracy = 97.1527% (55720/57353) (classification)\n",
      "AP: 0.447675164985648\n",
      "Time elapsed since begginning: 101056.65984988213\n",
      "New model with parameters: \n",
      "{'C': 1.2187367906877998e-05, 'kernel': {'gamma': 0.09473947083696976, 'type': 2}}\n",
      "Training model\n",
      "Model trained, train time: 9218.920545101166\n",
      "Accuracy = 61.5661% (35310/57353) (classification)\n",
      "AP: 0.5941800609314436\n",
      "Time elapsed since begginning: 111285.0932867527\n",
      "New model with parameters: \n",
      "{'C': 1.1623388986531722e-05, 'kernel': {'coef0': 4.902326706421234, 'gamma': 0.9866532478751547, 'type': 3}}\n",
      "Training model\n",
      "Model trained, train time: 11822.98040819168\n",
      "Accuracy = 62.6977% (35959/57353) (classification)\n",
      "AP: 0.15203718136455607\n",
      "Time elapsed since begginning: 124322.29014492035\n",
      "New model with parameters: \n",
      "{'C': 2.293403779996434e-06, 'kernel': {'gamma': 0.08074699017127543, 'type': 2}}\n",
      "Training model\n",
      "Model trained, train time: 3464.2137517929077\n",
      "Accuracy = 0.857845% (492/57353) (classification)\n",
      "AP: 0.5714677823259472\n",
      "Time elapsed since begginning: 129367.38468575478\n",
      "New model with parameters: \n",
      "{'C': 3.184369513268658e-05, 'kernel': {'type': 0}}\n",
      "Training model\n",
      "Model trained, train time: 3266.0435988903046\n",
      "Accuracy = 86.4506% (49582/57353) (classification)\n",
      "AP: 0.42207068743839016\n",
      "Time elapsed since begginning: 133083.45860767365\n",
      "New model with parameters: \n",
      "{'C': 5.931450690620044e-06, 'kernel': {'gamma': 0.0763452376784449, 'type': 2}}\n",
      "Training model\n",
      "Model trained, train time: 13043.014059066772\n",
      "Accuracy = 26.1364% (14990/57353) (classification)\n",
      "AP: 0.572055305341361\n",
      "Time elapsed since begginning: 147488.9709777832\n",
      "New model with parameters: \n",
      "{'C': 0.0003259065888937846, 'kernel': {'coef0': -4.794045311941288, 'gamma': 0.5396506707854577, 'type': 3}}\n",
      "Training model\n",
      "Model trained, train time: 2551.5464372634888\n",
      "Accuracy = 97.8589% (56125/57353) (classification)\n",
      "AP: 0.01844445580545135\n",
      "Time elapsed since begginning: 150086.91720581055\n",
      "New model with parameters: \n",
      "{'C': 0.003980017672933544, 'kernel': {'type': 0}}\n",
      "Training model\n",
      "Model trained, train time: 17.74494218826294\n",
      "Accuracy = 99.245% (56920/57353) (classification)\n",
      "AP: 0.42730565180343283\n",
      "Time elapsed since begginning: 150108.5370028019\n",
      "New model with parameters: \n",
      "{'C': 4.342735589104491e-06, 'kernel': {'gamma': 0.11291474265176056, 'type': 2}}\n",
      "Training model\n",
      "Model trained, train time: 3007.8861212730408\n",
      "Accuracy = 0.857845% (492/57353) (classification)\n",
      "AP: 0.5918083612134974\n",
      "Time elapsed since begginning: 154673.03390789032\n",
      "New model with parameters: \n",
      "{'C': 0.0023263702768815614, 'kernel': {'coef0': -1.9118343280295447, 'gamma': 0.21599278943385547, 'type': 3}}\n",
      "Training model\n",
      "Model trained, train time: 61.86426496505737\n",
      "Accuracy = 99.0149% (56788/57353) (classification)\n",
      "AP: 0.01944669614598174\n",
      "Time elapsed since begginning: 154740.98227787018\n",
      "New model with parameters: \n",
      "{'C': 0.015978726212833628, 'kernel': {'gamma': 0.06200508224842481, 'type': 2}}\n",
      "Training model\n",
      "Model trained, train time: 200.4939980506897\n",
      "Accuracy = 14.6322% (8392/57353) (classification)\n",
      "AP: 0.519056742539916\n",
      "Time elapsed since begginning: 154953.08935976028\n",
      "New model with parameters: \n",
      "{'C': 2.171413884766342e-05, 'kernel': {'type': 0}}\n",
      "Training model\n",
      "Model trained, train time: 5084.361468791962\n",
      "Accuracy = 80.1894% (45991/57353) (classification)\n",
      "AP: 0.41875470923614283\n",
      "Time elapsed since begginning: 160597.91640496254\n",
      "New model with parameters: \n",
      "{'C': 0.17926872509900932, 'kernel': {'coef0': 3.2147029827699876, 'degree': 3, 'gamma': 6.128463844845475, 'type': 1}}\n",
      "Training model\n",
      "Model trained, train time: 0.3963460922241211\n",
      "Accuracy = 99.1387% (56859/57353) (classification)\n",
      "AP: 0.36537856257870327\n",
      "Time elapsed since begginning: 160600.66148662567\n",
      "New model with parameters: \n",
      "{'C': 4.7128249802657746e-05, 'kernel': {'gamma': 0.11949802518871225, 'type': 2}}\n",
      "Training model\n",
      "Model trained, train time: 4800.735097169876\n",
      "Accuracy = 92.3334% (52956/57353) (classification)\n",
      "AP: 0.6003255305438325\n",
      "Time elapsed since begginning: 165797.8275346756\n",
      "New model with parameters: \n",
      "{'C': 0.000587890220043623, 'kernel': {'coef0': -0.8288740614562721, 'gamma': 1.3319006474642834, 'type': 3}}\n",
      "Training model\n",
      "Model trained, train time: 455.1586630344391\n",
      "Accuracy = 98.4831% (56483/57353) (classification)\n",
      "AP: 0.010346267312242065\n",
      "Time elapsed since begginning: 166270.72274374962\n",
      "New model with parameters: \n",
      "{'C': 0.00022635955887900683, 'kernel': {'gamma': 0.12583507326547783, 'type': 2}}\n",
      "Training model\n",
      "Model trained, train time: 3164.506247282028\n",
      "Accuracy = 80.5869% (46219/57353) (classification)\n",
      "AP: 0.5822187371456065\n",
      "Time elapsed since begginning: 169523.29268479347\n",
      "New model with parameters: \n",
      "{'C': 4.0623307853558943e-05, 'kernel': {'coef0': -1.1695443357855926, 'degree': 5, 'gamma': 0.13420804147517673, 'type': 1}}\n",
      "Training model\n"
     ]
    }
   ],
   "source": [
    "fun_SVDD = Objective_SVDD()\n",
    "trials = Trials()\n",
    "best = fmin(fun_SVDD, space, algo=tpe.suggest, max_evals = 100, trials=trials)"
   ]
  },
  {
   "cell_type": "code",
   "execution_count": null,
   "metadata": {
    "collapsed": true
   },
   "outputs": [],
   "source": [
    "print(best)"
   ]
  },
  {
   "cell_type": "code",
   "execution_count": null,
   "metadata": {
    "collapsed": true
   },
   "outputs": [],
   "source": [
    "print(\"Accuracy: {}\".format(1 - res_cma[1]))\n",
    "print(\"Optimal parameters: {}\".format(fun_cma.encode(*res_cma[0])))"
   ]
  },
  {
   "cell_type": "code",
   "execution_count": null,
   "metadata": {
    "collapsed": true
   },
   "outputs": [],
   "source": [
    "optimized_params = fun_cma.encode(*res_cma[0])\n",
    "param.C = optimized_params['C']\n",
    "param.gamma = optimized_params['gamma']\n",
    "model = svm_train(problem, param)"
   ]
  },
  {
   "cell_type": "code",
   "execution_count": null,
   "metadata": {
    "collapsed": true
   },
   "outputs": [],
   "source": [
    "p_label, p_acc, p_val = svm_predict(y_test, X_test, model)"
   ]
  },
  {
   "cell_type": "markdown",
   "metadata": {},
   "source": [
    "## Save model"
   ]
  },
  {
   "cell_type": "code",
   "execution_count": null,
   "metadata": {
    "collapsed": true
   },
   "outputs": [],
   "source": [
    "svm_save_model('./model_1.m', model)"
   ]
  },
  {
   "cell_type": "code",
   "execution_count": null,
   "metadata": {
    "collapsed": true
   },
   "outputs": [],
   "source": [
    "model = svm_load_model('./model_1.m')"
   ]
  },
  {
   "cell_type": "code",
   "execution_count": null,
   "metadata": {
    "collapsed": true
   },
   "outputs": [],
   "source": [
    "p_label, p_acc, p_val = svm_predict(y_test, X_test, model)"
   ]
  },
  {
   "cell_type": "code",
   "execution_count": null,
   "metadata": {
    "collapsed": true
   },
   "outputs": [],
   "source": [
    "from sklearn.metrics import (average_precision_score,\n",
    "                             accuracy_score,\n",
    "                             classification_report,\n",
    "                             f1_score)\n",
    "average_precision = average_precision_score(y_test, p_val)\n",
    "f1 = f1_score(y_test, p_label)\n",
    "acc = accuracy_score(y_test, p_label)\n",
    "\n",
    "\n",
    "print('Average precision-recall score: {0:0.2f}'.format(\n",
    "      average_precision))\n",
    "print('F1 score: {0:0.2f}'.format(f1))\n",
    "print('Accuracy score: {0:0.2f}'.format(acc))\n",
    "print(classification_report(y_test, p_label))"
   ]
  },
  {
   "cell_type": "code",
   "execution_count": null,
   "metadata": {
    "collapsed": true
   },
   "outputs": [],
   "source": []
  }
 ],
 "metadata": {
  "kernelspec": {
   "display_name": "Python [conda root]",
   "language": "python",
   "name": "conda-root-py"
  },
  "language_info": {
   "codemirror_mode": {
    "name": "ipython",
    "version": 3
   },
   "file_extension": ".py",
   "mimetype": "text/x-python",
   "name": "python",
   "nbconvert_exporter": "python",
   "pygments_lexer": "ipython3",
   "version": "3.6.2"
  }
 },
 "nbformat": 4,
 "nbformat_minor": 2
}
